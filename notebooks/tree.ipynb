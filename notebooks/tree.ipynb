{
  "nbformat": 4,
  "nbformat_minor": 0,
  "metadata": {
    "colab": {
      "name": "Tree_v2.ipynb",
      "version": "0.3.2",
      "provenance": [],
      "collapsed_sections": []
    },
    "kernelspec": {
      "name": "python3",
      "display_name": "Python 3"
    }
  },
  "cells": [
    {
      "metadata": {
        "id": "LFquYPImCGo4",
        "colab_type": "text"
      },
      "cell_type": "markdown",
      "source": [
        "#Árvores em Python: O que são e como se organizam."
      ]
    },
    {
      "metadata": {
        "id": "gcGOl22GGzWv",
        "colab_type": "text"
      },
      "cell_type": "markdown",
      "source": [
        "  Uma Tree é uma estrutura de dados que tem como principal utilidade o fato de cada dado estar ligado a outro de forma hierarquica. \n",
        "De certa forma, as Trees se organizam como as árvores da natureza, tanto que daí vem o nome \"Tree\", com a diferença de começarem a partir das raízes e irem descendo até as folhas, como uma \"árvore invertida\".\n",
        "\n",
        "\n",
        "![Upside down tree model](https://cdn-images-1.medium.com/max/347/1*h3koGce0YA7XP_xuAcZisg.png \"Exemplo ilustratório\")\n",
        "\n",
        "A palavra \"árvore\" (\"*tree*\", em inglês) é usada na computação quando falamos de uma forma em que os dados podem ser organizados. Nas árvores, temos nódulos (\"*nodes*\", em inglês) com ligações para outros nodes, e eles são os dados que queremos organizar. A raíz, \"*root*\", é o nódulo original, de onde todos os outros partem. Os termos \"*child*\" (plural \"*children*\"), \"*parent*\" (plural \"*parents*\") e \"sibling\" (plural \"*siblings*\") correspondem a \"filho\", \"pai\" e \"irmão\", respectivamente, e servem para ilustrar a idéia da organização vertical de uma arvore, onde os nodes que dão origem a outros (abaixo dele) são \"pais\", os que surgem dele, seus \"filhos\" e filhos de um mesmo pai são \"irmãos\". Por fim, \"*leaf*\" (plural \"*leaves*\") é o termo usado para um node \"final\" que não é pai de nenhum outro, da mesma forma que não surgem galhos a partir das folhas de uma árvore.  Nas árvores, cada node ***pode*** ter um ou mais nodes abaixo dele (filhos) mas somente um acima (pai).\n",
        "\n",
        "![Model](https://i.ytimg.com/vi/qH6yxkw0u78/maxresdefault.jpg \"Esquema de uma 'tree'\")\n",
        "\n",
        "Python não tem um suporte já pronto para essa estrutura de dados, então iremos usar uma biblioteca para facilitar o aprendizado de como as trees são usadas. A biblioteca selecionada para ser usada nesse tutorial é \"*[anytree](https://pypi.org/project/anytree/)*\". ***(como python depende de bibliotecas para usar trees, os comandos variam dependendo de sua escolha e são de menor importância para seu aprendizado)***\n",
        "\n",
        "***É DE EXTREMA IMPORTÂNCIA QUE O CÓDIGO ABAIXO SEJA RODADO***"
      ]
    },
    {
      "metadata": {
        "id": "O1RvDxkuRSjg",
        "colab_type": "code",
        "outputId": "4d55a0c9-5453-4da4-8870-e7a5d66528d6",
        "colab": {
          "base_uri": "https://localhost:8080/",
          "height": 214
        }
      },
      "cell_type": "code",
      "source": [
        "#SEMPRE rode isso quando abrir o notebook para garantir que irá funcionar apropriadamente\n",
        "!pip install anytree\n",
        "!pip install anytree --user"
      ],
      "execution_count": 0,
      "outputs": [
        {
          "output_type": "stream",
          "text": [
            "Collecting anytree\n",
            "  Downloading https://files.pythonhosted.org/packages/78/bf/9300ecef72d105b3a76de6930916458d6bb8c7e787f5efb1c510bf898873/anytree-2.6.0.tar.gz\n",
            "Requirement already satisfied: six>=1.9.0 in /usr/local/lib/python3.6/dist-packages (from anytree) (1.11.0)\n",
            "Building wheels for collected packages: anytree\n",
            "  Building wheel for anytree (setup.py) ... \u001b[?25ldone\n",
            "\u001b[?25h  Stored in directory: /root/.cache/pip/wheels/6b/e2/88/ffb3e712f4e961427fd2dab733bf86dcd725d35b659fc18072\n",
            "Successfully built anytree\n",
            "Installing collected packages: anytree\n",
            "Successfully installed anytree-2.6.0\n",
            "Requirement already satisfied: anytree in /usr/local/lib/python3.6/dist-packages (2.6.0)\n",
            "Requirement already satisfied: six>=1.9.0 in /usr/local/lib/python3.6/dist-packages (from anytree) (1.11.0)\n"
          ],
          "name": "stdout"
        }
      ]
    },
    {
      "metadata": {
        "id": "TAo0w9-Nf9_F",
        "colab_type": "text"
      },
      "cell_type": "markdown",
      "source": [
        "#Métodos"
      ]
    },
    {
      "metadata": {
        "id": "PvIFsqmpgFbk",
        "colab_type": "text"
      },
      "cell_type": "markdown",
      "source": [
        "Para começar, devemos importar alguns certos elementos de nossa biblioteca. Ative a cécula abaixo para prosseguir:"
      ]
    },
    {
      "metadata": {
        "id": "Z8OvrC-cgtoW",
        "colab_type": "code",
        "colab": {}
      },
      "cell_type": "code",
      "source": [
        "from anytree import Node, RenderTree"
      ],
      "execution_count": 0,
      "outputs": []
    },
    {
      "metadata": {
        "id": "8I5uYB48gtK8",
        "colab_type": "text"
      },
      "cell_type": "markdown",
      "source": [
        "Agora podemos começar a programar! Vamos começar criando um *node*. A sintaxe usada pela \"anytree\" é:\n",
        "> node_name = Node(node_data, parent = node_parent)\n",
        "\n"
      ]
    },
    {
      "metadata": {
        "id": "OY_6oXdDiKis",
        "colab_type": "code",
        "colab": {}
      },
      "cell_type": "code",
      "source": [
        "pessoas = Node(\"Pessoas no IMD\") #criando o node root"
      ],
      "execution_count": 0,
      "outputs": []
    },
    {
      "metadata": {
        "id": "eZFFmL3pi4E0",
        "colab_type": "text"
      },
      "cell_type": "markdown",
      "source": [
        "Note que 'pessoas' em minúsculo é o nome pelo qual iremos identificar o node dentro do código, e a string 'Pessoas no IMD' é o conteúdo de tal node. Percebeu que faltou a parte \n",
        "> ' `, parent = ~node-parent~` ' ?\n",
        "\n",
        "Como estamos criando o primeiro node, o root, ele não pode/deve ter nenhum pai.\n",
        "\n",
        "Agora, vamos criar mais nodes para preencher nossa árvore!"
      ]
    },
    {
      "metadata": {
        "id": "IgmNNR5Qn22D",
        "colab_type": "code",
        "colab": {}
      },
      "cell_type": "code",
      "source": [
        "estudantes = Node(\"Estudantes\", parent = pessoas)                           #\n",
        "\n",
        "aluno_1 = Node(\"Aluno 1\", parent = estudantes)                              #\n",
        "\n",
        "elementos_pessoais = Node(\"Informações pessoais\", parent = aluno_1)         # \n",
        "elementos_academicos = Node(\"Dados academicos\", parent = aluno_1)           #\n",
        "\n",
        "matricula = Node(123456789, parent = elementos_pessoais)                    #\n",
        "nome = Node(\"Joãozinho\", parent = elementos_pessoais)                       #\n",
        "endereco = Node(\"Rua dos bobos nº0\", parent = elementos_pessoais)           #\n",
        "\n",
        "cursos = Node(\"Disciplinas\", parent = elementos_academicos)                 #\n",
        "projetos = Node(\"Projetos acadêmicos\", parent = elementos_academicos)       #\n",
        "\n",
        "edb =  Node(\"Estrutura de Dados Básicas\", parent = cursos)                  #\n",
        "fmc2 = Node(\"FMC II\", parent = cursos)                                      \n",
        "lp1 = Node(\"Linguagem de Programação I\", parent = cursos)                   #"
      ],
      "execution_count": 0,
      "outputs": []
    },
    {
      "metadata": {
        "id": "bDi-sRVgW7Jp",
        "colab_type": "text"
      },
      "cell_type": "markdown",
      "source": [
        "Vejamos como ficou nossa Tree estudantes"
      ]
    },
    {
      "metadata": {
        "id": "9nzDeNO0XCWy",
        "colab_type": "code",
        "outputId": "6fbffd42-5764-402d-8a89-95e59a63e08d",
        "colab": {
          "base_uri": "https://localhost:8080/",
          "height": 231
        }
      },
      "cell_type": "code",
      "source": [
        "print(RenderTree(estudantes)) #usamos a função RenderTree para printar nossa Tree. Usamos como parâmetro o primeiro Node que desejamos printar, e a função vai printar ele e todas as suas Children"
      ],
      "execution_count": 0,
      "outputs": [
        {
          "output_type": "stream",
          "text": [
            "Node('/Pessoas no IMD/Estudantes')\n",
            "└── Node('/Pessoas no IMD/Estudantes/Aluno 1')\n",
            "    ├── Node('/Pessoas no IMD/Estudantes/Aluno 1/Informações pessoais')\n",
            "    │   ├── Node('/Pessoas no IMD/Estudantes/Aluno 1/Informações pessoais/123456789')\n",
            "    │   ├── Node('/Pessoas no IMD/Estudantes/Aluno 1/Informações pessoais/Joãozinho')\n",
            "    │   └── Node('/Pessoas no IMD/Estudantes/Aluno 1/Informações pessoais/Rua dos bobos nº0')\n",
            "    └── Node('/Pessoas no IMD/Estudantes/Aluno 1/Dados academicos')\n",
            "        ├── Node('/Pessoas no IMD/Estudantes/Aluno 1/Dados academicos/Disciplinas')\n",
            "        │   ├── Node('/Pessoas no IMD/Estudantes/Aluno 1/Dados academicos/Disciplinas/Estrutura de Dados Básicas')\n",
            "        │   ├── Node('/Pessoas no IMD/Estudantes/Aluno 1/Dados academicos/Disciplinas/FMC II')\n",
            "        │   └── Node('/Pessoas no IMD/Estudantes/Aluno 1/Dados academicos/Disciplinas/Linguagem de Programação I')\n",
            "        └── Node('/Pessoas no IMD/Estudantes/Aluno 1/Dados academicos/Projetos acadêmicos')\n"
          ],
          "name": "stdout"
        }
      ]
    },
    {
      "metadata": {
        "id": "qmepfQ2NnQMq",
        "colab_type": "text"
      },
      "cell_type": "markdown",
      "source": [
        "Antes de seguirmos para o próximo exercício, vamos introduzir um outro tipo de Node, o AnyNode. A única diferença em relação a estrutura é que enquanto o Node demanda obrigatoriamente um nome, o AnyNode não o faz. Além disso o AnyNode tem uma forma de printar um pouco diferente."
      ]
    },
    {
      "metadata": {
        "id": "Rm5C260jYCNT",
        "colab_type": "text"
      },
      "cell_type": "markdown",
      "source": [
        "Neste outro exemplo, vamos atribuir outros atributos aos nossos Nodes.\n",
        "\n",
        "Podemos atribuir quantos atributos quisermos  e podemos usar qualquer tipo, seja int, float, string, lista..."
      ]
    },
    {
      "metadata": {
        "id": "-DdnUSgWnmhn",
        "colab_type": "code",
        "colab": {}
      },
      "cell_type": "code",
      "source": [
        "from anytree import AnyNode"
      ],
      "execution_count": 0,
      "outputs": []
    },
    {
      "metadata": {
        "id": "PvQI80pGXtep",
        "colab_type": "code",
        "colab": {}
      },
      "cell_type": "code",
      "source": [
        "subtenente=AnyNode(Patente=\"Subtenente\",salario=\"6169,00\",categoria=\"Praças\",tarefas=[\"Orientar o treino\",\"Receber o general\"])\n",
        "\n",
        "sargento=AnyNode(Patente=\"Primeiro Sargento\",salario=\"5483,00\",categoria=\"Praças\",parent=subtenente)\n",
        "\n",
        "taifeiro_mor=AnyNode(Patente=\"taifeiro_mor\",salario=\"2627,00\",categoria=\"Praças\",parent=sargento)\n",
        "cabo=AnyNode(Patente=\"cabo\",salario=\"2627,00\",categoria=\"Praças\",parent=sargento)\n",
        "\n",
        "taifeiro_1classe=AnyNode(Patente=\"taifeiro de primeira classe\",salario=\"2325,00\",categoria=\"Praças\",parent=taifeiro_mor)\n",
        "taifeiro_2classe=AnyNode(Patente=\"taifeiro de segunda classe\",salario=\"2210,00\",categoria=\"Praças\",parent=taifeiro_1classe)\n",
        "soldado=AnyNode(Patente=\"Soldado\",salario=\"1560,00\",categoria=\"Praças\",parent=cabo)"
      ],
      "execution_count": 0,
      "outputs": []
    },
    {
      "metadata": {
        "id": "-JOumxbba9em",
        "colab_type": "text"
      },
      "cell_type": "markdown",
      "source": [
        "Vejamos como ficou:\n",
        "(lembrando que isso é só uma aproximação da hierarquia militar)"
      ]
    },
    {
      "metadata": {
        "id": "P_Y7uDLIa17n",
        "colab_type": "code",
        "outputId": "5fa09c5c-f8bc-4eb0-e8d4-47c50f4a32b1",
        "colab": {
          "base_uri": "https://localhost:8080/",
          "height": 142
        }
      },
      "cell_type": "code",
      "source": [
        "print(RenderTree(subtenente))"
      ],
      "execution_count": 0,
      "outputs": [
        {
          "output_type": "stream",
          "text": [
            "AnyNode(Patente='Subtenente', categoria='Praças', salario='6169,00', tarefas=['Orientar o treino', 'Receber o general'])\n",
            "└── AnyNode(Patente='Primeiro Sargento', categoria='Praças', salario='5483,00')\n",
            "    ├── AnyNode(Patente='taifeiro_mor', categoria='Praças', salario='2627,00')\n",
            "    │   └── AnyNode(Patente='taifeiro de primeira classe', categoria='Praças', salario='2325,00')\n",
            "    │       └── AnyNode(Patente='taifeiro de segunda classe', categoria='Praças', salario='2210,00')\n",
            "    └── AnyNode(Patente='cabo', categoria='Praças', salario='2627,00')\n",
            "        └── AnyNode(Patente='Soldado', categoria='Praças', salario='1560,00')\n"
          ],
          "name": "stdout"
        }
      ]
    },
    {
      "metadata": {
        "id": "Q6SXp9YYbgOd",
        "colab_type": "text"
      },
      "cell_type": "markdown",
      "source": [
        "Note que não temos nenhum oficial em nossa Tree, para corrigir isso devemos colocar alguem com patente acima de subtentente, ou seja: devemos adicionar um Parent ao Node subtenente."
      ]
    },
    {
      "metadata": {
        "id": "1gUdGYGQcM77",
        "colab_type": "code",
        "colab": {}
      },
      "cell_type": "code",
      "source": [
        "primeiro_tenente=AnyNode(Patente=\"Primeiro tenente\",salario=\"7796,00\",categoria=\"Oficiais subalternos\",tarefas=[\"Comandar o pelotão\",\"gerenciar o quartel número 4\"])\n",
        "segundo_tenente=AnyNode(Patente=\"Segundo tenente\",salario=\"7490,00\",categoria=\"Oficiais subalternos\",parent=primeiro_tenente, taferas=[\"Auxiliar na gerencia do quartel número 4\"])\n",
        "aspirante_a_oficial=AnyNode(Patente=\"Aspirante a oficial\",salario=\"6993,00\",categoria=\"Oficiais subalternos\",parent=primeiro_tenente, taferas=[\"Auxiliar no comando do pelotão\"])\n",
        "#agora adicionando os oficiais à nossa tree:\n",
        "subtenente.parent=aspirante_a_oficial\n"
      ],
      "execution_count": 0,
      "outputs": []
    },
    {
      "metadata": {
        "id": "zjG7zo8Fddra",
        "colab_type": "code",
        "outputId": "98f87d85-b170-455f-c540-aec8fd12d1ef",
        "colab": {
          "base_uri": "https://localhost:8080/",
          "height": 196
        }
      },
      "cell_type": "code",
      "source": [
        "print(RenderTree(primeiro_tenente))"
      ],
      "execution_count": 0,
      "outputs": [
        {
          "output_type": "stream",
          "text": [
            "AnyNode(Patente='Primeiro tenente', categoria='Oficiais subalternos', salario='7796,00', tarefas=['Comandar o pelotão', 'gerenciar o quartel número 4'])\n",
            "├── AnyNode(Patente='Segundo tenente', categoria='Oficiais subalternos', salario='7490,00', taferas=['Auxiliar na gerencia do quartel número 4'])\n",
            "└── AnyNode(Patente='Aspirante a oficial', categoria='Oficiais subalternos', salario='6993,00', taferas=['Auxiliar no comando do pelotão'])\n",
            "    └── AnyNode(Patente='Subtenente', categoria='Praças', salario='6169,00', tarefas=['Orientar o treino', 'Receber o general'])\n",
            "        └── AnyNode(Patente='Primeiro Sargento', categoria='Praças', salario='5483,00')\n",
            "            ├── AnyNode(Patente='taifeiro_mor', categoria='Praças', salario='2627,00')\n",
            "            │   └── AnyNode(Patente='taifeiro de primeira classe', categoria='Praças', salario='2325,00')\n",
            "            │       └── AnyNode(Patente='taifeiro de segunda classe', categoria='Praças', salario='2210,00')\n",
            "            └── AnyNode(Patente='cabo', categoria='Praças', salario='2627,00')\n",
            "                └── AnyNode(Patente='Soldado', categoria='Praças', salario='1560,00')\n"
          ],
          "name": "stdout"
        }
      ]
    },
    {
      "metadata": {
        "id": "AD9Pi5N-duHP",
        "colab_type": "text"
      },
      "cell_type": "markdown",
      "source": [
        "Mas digamos que eu tenha acabado de ser promovido para sargento e só queira saber em quem eu posso mandar, vejamos:"
      ]
    },
    {
      "metadata": {
        "id": "2noauV58evVk",
        "colab_type": "code",
        "outputId": "202b89c0-d304-4214-e7b6-63cbcd01b4ae",
        "colab": {
          "base_uri": "https://localhost:8080/",
          "height": 124
        }
      },
      "cell_type": "code",
      "source": [
        "print(RenderTree(sargento))"
      ],
      "execution_count": 0,
      "outputs": [
        {
          "output_type": "stream",
          "text": [
            "AnyNode(Patente='Primeiro Sargento', categoria='Praças', salario='5483,00')\n",
            "├── AnyNode(Patente='taifeiro_mor', categoria='Praças', salario='2627,00')\n",
            "│   └── AnyNode(Patente='taifeiro de primeira classe', categoria='Praças', salario='2325,00')\n",
            "│       └── AnyNode(Patente='taifeiro de segunda classe', categoria='Praças', salario='2210,00')\n",
            "└── AnyNode(Patente='cabo', categoria='Praças', salario='2627,00')\n",
            "    └── AnyNode(Patente='Soldado', categoria='Praças', salario='1560,00')\n"
          ],
          "name": "stdout"
        }
      ]
    },
    {
      "metadata": {
        "id": "UraK709OelTk",
        "colab_type": "text"
      },
      "cell_type": "markdown",
      "source": [
        "#Exercícios de fixação"
      ]
    },
    {
      "metadata": {
        "colab_type": "text",
        "id": "-_Siobi-Jx-E"
      },
      "cell_type": "markdown",
      "source": [
        "Vamos criar uma árvore simples. Para começar, devemos lembrar de importar os seguintes elementos:"
      ]
    },
    {
      "metadata": {
        "id": "r4k2b4qYhsMb",
        "colab_type": "text"
      },
      "cell_type": "markdown",
      "source": [
        " ***Primeiro exercício: ***\n",
        "\n",
        "   Faça uma Tree com as últimas três gerações masculinas de sua família (seu avô, tios-avô, pai, tios, etc...)"
      ]
    },
    {
      "metadata": {
        "id": "fHPiKNjiRYEn",
        "colab_type": "code",
        "colab": {}
      },
      "cell_type": "code",
      "source": [
        "#primeiro exercício"
      ],
      "execution_count": 0,
      "outputs": []
    },
    {
      "metadata": {
        "id": "Er0LmB5rpM--",
        "colab_type": "text"
      },
      "cell_type": "markdown",
      "source": [
        "Agora vamos aprender outra forma, uma mais rápida, de criar Trees. \n",
        "\n",
        "\n",
        "O método children (usando como exemplo uma versão simplificada  da hierarquia católica):\n"
      ]
    },
    {
      "metadata": {
        "id": "1hA7X2HQll8U",
        "colab_type": "code",
        "outputId": "9887ae7c-f31e-4301-f3f4-5b2d303fc40e",
        "colab": {
          "base_uri": "https://localhost:8080/",
          "height": 124
        }
      },
      "cell_type": "code",
      "source": [
        "Papa = AnyNode(nome=\"Papa\",children=[\n",
        "    AnyNode(nome=\"Arcebispo\",children=[\n",
        "        AnyNode(nome=\"Bispo\",children=[\n",
        "            AnyNode(nome=\"Padre Vigário\"),AnyNode(nome=\"Padre Paroco\",children=[AnyNode(nome=\"fiéis\")\n",
        "            ])\n",
        "        ])\n",
        "    ])\n",
        "])\n",
        "print(RenderTree(Papa))"
      ],
      "execution_count": 0,
      "outputs": [
        {
          "output_type": "stream",
          "text": [
            "AnyNode(nome='Papa')\n",
            "└── AnyNode(nome='Arcebispo')\n",
            "    └── AnyNode(nome='Bispo')\n",
            "        ├── AnyNode(nome='Padre Vigário')\n",
            "        └── AnyNode(nome='Padre Paroco')\n",
            "            └── AnyNode(nome='fiéis')\n"
          ],
          "name": "stdout"
        }
      ]
    },
    {
      "metadata": {
        "id": "8eB4Y_NRh03S",
        "colab_type": "text"
      },
      "cell_type": "markdown",
      "source": [
        "***Segundo exercício:***\n",
        "\n",
        "Monte uma Tree, usando os Nodes e a técnica que preferir, baseado na imagem a seguir. Ela contém a hierarquia de um grupo mafioso asiático conhecido como Triad.\n",
        "\n",
        "![exercicio2](https://i2.wp.com/www.estilogangster.com.br/wp-content/uploads/2017/12/mafia-chinesa-triade.jpg?resize=662%2C473 \"hierarquia triad\")"
      ]
    },
    {
      "metadata": {
        "id": "j0q3Ql7ZRbUQ",
        "colab_type": "code",
        "colab": {}
      },
      "cell_type": "code",
      "source": [
        "#segundo exercício"
      ],
      "execution_count": 0,
      "outputs": []
    },
    {
      "metadata": {
        "id": "ExLRgxGMdoLr",
        "colab_type": "code",
        "colab": {}
      },
      "cell_type": "code",
      "source": [
        ""
      ],
      "execution_count": 0,
      "outputs": []
    },
    {
      "metadata": {
        "id": "wLdc58AxHIvK",
        "colab_type": "text"
      },
      "cell_type": "markdown",
      "source": [
        "**Terceiro exercício:**\n",
        "\n",
        "Por fim, faça uma Tree com todas as matérias que você já pagou até agora e seus pre-requisitos.\n",
        "\n",
        "*Dica:* Comece usando seu nome como Root, depois coloque as matérias introdutórias tendo como parent seu nome e assim por diante."
      ]
    },
    {
      "metadata": {
        "id": "Sjs5r9wDH_gV",
        "colab_type": "code",
        "colab": {}
      },
      "cell_type": "code",
      "source": [
        "#terceiro exercício"
      ],
      "execution_count": 0,
      "outputs": []
    },
    {
      "metadata": {
        "id": "Ltl4I57Xi4n0",
        "colab_type": "text"
      },
      "cell_type": "markdown",
      "source": [
        "#Respotas"
      ]
    },
    {
      "metadata": {
        "id": "50jVmzxgi6yd",
        "colab_type": "text"
      },
      "cell_type": "markdown",
      "source": [
        "###Exercício 3:"
      ]
    },
    {
      "metadata": {
        "id": "oz73lbk_i-g0",
        "colab_type": "code",
        "outputId": "67fbea2b-539d-4f5d-9dfa-de8a6895991f",
        "colab": {
          "base_uri": "https://localhost:8080/",
          "height": 367
        }
      },
      "cell_type": "code",
      "source": [
        "from anytree import Node,AnyNode, RenderTree\n",
        "\n",
        "dragon_head = AnyNode(nome = \"Mestre da montanha\", cargo = \"Líder\")\n",
        "vanguardista = AnyNode(nome = \"Vanguardista\", cargo = \"Chefe de operações\", parent = dragon_head)\n",
        "dep_mestre_montanha = AnyNode(nome = \"Deputado do mestre da montanha\", cargo = \"Representante\", parent = dragon_head)\n",
        "mestre_incesario = AnyNode(nome = \"Mestre incesário\", cargo = \"Mestre de cerimônias\", parent = dragon_head)\n",
        "helice_de_papel_branco = AnyNode(nome = \"Hélice de papel branco\", cargo = \"Administrador\", parent = dep_mestre_montanha)\n",
        "trave_vermelha = AnyNode(nome = \"Trave vermelha\", cargo = \"Soldado\", parent = dep_mestre_montanha)\n",
        "sandalia_de_palha = AnyNode(nome = \"Sandália de Palha\", cargo = \"Chefe de comunicações\", parent = dep_mestre_montanha)\n",
        "os49 = AnyNode(nome = \"49'ers o(s) 49\", cargo = \"Membros comuns\", parent = trave_vermelha)\n",
        "lanternas_azuis = AnyNode(nome = \"Lanternas azuis\", cargo = \"Membros ainda não iniciados\", parent = trave_vermelha)\n",
        "\n",
        "print(RenderTree(dragon_head))"
      ],
      "execution_count": 0,
      "outputs": [
        {
          "output_type": "error",
          "ename": "ModuleNotFoundError",
          "evalue": "ignored",
          "traceback": [
            "\u001b[0;31m---------------------------------------------------------------------------\u001b[0m",
            "\u001b[0;31mModuleNotFoundError\u001b[0m                       Traceback (most recent call last)",
            "\u001b[0;32m<ipython-input-4-4f55e24147ec>\u001b[0m in \u001b[0;36m<module>\u001b[0;34m()\u001b[0m\n\u001b[0;32m----> 1\u001b[0;31m \u001b[0;32mfrom\u001b[0m \u001b[0manytree\u001b[0m \u001b[0;32mimport\u001b[0m \u001b[0mNode\u001b[0m\u001b[0;34m,\u001b[0m\u001b[0mAnyNode\u001b[0m\u001b[0;34m,\u001b[0m \u001b[0mRenderTree\u001b[0m\u001b[0;34m\u001b[0m\u001b[0;34m\u001b[0m\u001b[0m\n\u001b[0m\u001b[1;32m      2\u001b[0m \u001b[0;34m\u001b[0m\u001b[0m\n\u001b[1;32m      3\u001b[0m \u001b[0mdragon_head\u001b[0m \u001b[0;34m=\u001b[0m \u001b[0mAnyNode\u001b[0m\u001b[0;34m(\u001b[0m\u001b[0mnome\u001b[0m \u001b[0;34m=\u001b[0m \u001b[0;34m\"Mestre da montanha\"\u001b[0m\u001b[0;34m,\u001b[0m \u001b[0mcargo\u001b[0m \u001b[0;34m=\u001b[0m \u001b[0;34m\"Líder\"\u001b[0m\u001b[0;34m)\u001b[0m\u001b[0;34m\u001b[0m\u001b[0;34m\u001b[0m\u001b[0m\n\u001b[1;32m      4\u001b[0m \u001b[0mvanguardista\u001b[0m \u001b[0;34m=\u001b[0m \u001b[0mAnyNode\u001b[0m\u001b[0;34m(\u001b[0m\u001b[0mnome\u001b[0m \u001b[0;34m=\u001b[0m \u001b[0;34m\"Vanguardista\"\u001b[0m\u001b[0;34m,\u001b[0m \u001b[0mcargo\u001b[0m \u001b[0;34m=\u001b[0m \u001b[0;34m\"Chefe de operações\"\u001b[0m\u001b[0;34m,\u001b[0m \u001b[0mparent\u001b[0m \u001b[0;34m=\u001b[0m \u001b[0mdragon_head\u001b[0m\u001b[0;34m)\u001b[0m\u001b[0;34m\u001b[0m\u001b[0;34m\u001b[0m\u001b[0m\n\u001b[1;32m      5\u001b[0m \u001b[0mdep_mestre_montanha\u001b[0m \u001b[0;34m=\u001b[0m \u001b[0mAnyNode\u001b[0m\u001b[0;34m(\u001b[0m\u001b[0mnome\u001b[0m \u001b[0;34m=\u001b[0m \u001b[0;34m\"Deputado do mestre da montanha\"\u001b[0m\u001b[0;34m,\u001b[0m \u001b[0mcargo\u001b[0m \u001b[0;34m=\u001b[0m \u001b[0;34m\"Representante\"\u001b[0m\u001b[0;34m,\u001b[0m \u001b[0mparent\u001b[0m \u001b[0;34m=\u001b[0m \u001b[0mdragon_head\u001b[0m\u001b[0;34m)\u001b[0m\u001b[0;34m\u001b[0m\u001b[0;34m\u001b[0m\u001b[0m\n",
            "\u001b[0;31mModuleNotFoundError\u001b[0m: No module named 'anytree'",
            "",
            "\u001b[0;31m---------------------------------------------------------------------------\u001b[0;32m\nNOTE: If your import is failing due to a missing package, you can\nmanually install dependencies using either !pip or !apt.\n\nTo view examples of installing some common dependencies, click the\n\"Open Examples\" button below.\n\u001b[0;31m---------------------------------------------------------------------------\u001b[0m\n"
          ]
        }
      ]
    },
    {
      "metadata": {
        "id": "P42blwaujUeP",
        "colab_type": "text"
      },
      "cell_type": "markdown",
      "source": [
        "###Exercício 4:"
      ]
    },
    {
      "metadata": {
        "id": "mC1H3fZdi_hC",
        "colab_type": "code",
        "outputId": "9e6c1394-ed57-42c3-dd64-cbe621fb11f1",
        "colab": {
          "base_uri": "https://localhost:8080/",
          "height": 367
        }
      },
      "cell_type": "code",
      "source": [
        "from anytree import Node,AnyNode, RenderTree\n",
        "\n",
        "RPMTI = AnyNode(desc = \"Resoluções e Problemas Matemáticos para Tecnologia da Informação\", car_horaria = \"180h\")\n",
        "PLEI = AnyNode(desc = \"Práticas de leitura e escrita I\", carg_horaria = \"30h\")\n",
        "PLI = AnyNode(desc = \"Práticas de leitura em inglês\", carg_horaria = \"30h\")\n",
        "TIS = AnyNode(desc = \"Tecnologia da infromação e socidade\", carg_horaria = \"30h\")\n",
        "CI = AnyNode(desc = \"Cálculo diferencial e integral I\", car_horaria = \"90h\", parent = RPMTI)\n",
        "ITP = AnyNode(desc = \"Introdução as Técnicas de Programação\", car_horaria = \"60h\", parent = RPMTI)\n",
        "PTP = AnyNode(desc = \"prática de Técnicas de Programação\", car_horaria = \"30h\", parent = RPMTI)\n",
        "VGA = AnyNode(desc = \"Vetores e Geometria Análita\", car_horaria = \"60h\", parent = RPMTI)\n",
        "FMCI = AnyNode(desc = \"Fundamentos matemáticos da computação I\", car_horaria = \"90h\", parent = RPMTI)\n",
        "PLEII = AnyNode(desc = \"Práticas de leitura e escrita II\", carg_horaria = \"30h\", parent = PLEI)\n",
        "ALC = AnyNode(desc = \"Àlgebra Linear para computação\", carg_horaria = \"60h\", parent = VGA)\n",
        "MEII = AnyNode(desc = \"Matemática para engenharia II\", carg_horaria = \"90h\", parent = CI)\n",
        "PF = AnyNode(desc = \"Programação Funcional\", carg_horaria = \"60h\", parent = RPMTI)\n",
        "FMCII = AnyNode(desc = \"Fundamentos matemáticos da computação II\", carg_horaria = \"90h\", parent = FMCI)\n",
        "MEIII = AnyNode(desc = \"Matemática para engenharia III\", carg_horaria = \"90h\", parent = MEII)\n",
        "FMCIII = AnyNode(desc = \"Fundamentos matemáticos da computação III\", carg_horaria = \"90h\", parent = FMCII)\n",
        "\n",
        "print(RenderTree(RPMTI),RenderTree(PLEI),RenderTree(PLI),RenderTree(TIS))"
      ],
      "execution_count": 0,
      "outputs": [
        {
          "output_type": "error",
          "ename": "ModuleNotFoundError",
          "evalue": "ignored",
          "traceback": [
            "\u001b[0;31m---------------------------------------------------------------------------\u001b[0m",
            "\u001b[0;31mModuleNotFoundError\u001b[0m                       Traceback (most recent call last)",
            "\u001b[0;32m<ipython-input-7-7bef44792f72>\u001b[0m in \u001b[0;36m<module>\u001b[0;34m()\u001b[0m\n\u001b[0;32m----> 1\u001b[0;31m \u001b[0;32mfrom\u001b[0m \u001b[0manytree\u001b[0m \u001b[0;32mimport\u001b[0m \u001b[0mNode\u001b[0m\u001b[0;34m,\u001b[0m\u001b[0mAnyNode\u001b[0m\u001b[0;34m,\u001b[0m \u001b[0mRenderTree\u001b[0m\u001b[0;34m\u001b[0m\u001b[0;34m\u001b[0m\u001b[0m\n\u001b[0m\u001b[1;32m      2\u001b[0m \u001b[0;34m\u001b[0m\u001b[0m\n\u001b[1;32m      3\u001b[0m \u001b[0mRPMTI\u001b[0m \u001b[0;34m=\u001b[0m \u001b[0mAnyNode\u001b[0m\u001b[0;34m(\u001b[0m\u001b[0mdesc\u001b[0m \u001b[0;34m=\u001b[0m \u001b[0;34m\"Resoluções e Problemas Matemáticos para Tecnologia da Informação\"\u001b[0m\u001b[0;34m,\u001b[0m \u001b[0mcar_horaria\u001b[0m \u001b[0;34m=\u001b[0m \u001b[0;34m\"180h\"\u001b[0m\u001b[0;34m)\u001b[0m\u001b[0;34m\u001b[0m\u001b[0;34m\u001b[0m\u001b[0m\n\u001b[1;32m      4\u001b[0m \u001b[0mPLEI\u001b[0m \u001b[0;34m=\u001b[0m \u001b[0mAnyNode\u001b[0m\u001b[0;34m(\u001b[0m\u001b[0mdesc\u001b[0m \u001b[0;34m=\u001b[0m \u001b[0;34m\"Práticas de leitura e escrita I\"\u001b[0m\u001b[0;34m,\u001b[0m \u001b[0mcarg_horaria\u001b[0m \u001b[0;34m=\u001b[0m \u001b[0;34m\"30h\"\u001b[0m\u001b[0;34m)\u001b[0m\u001b[0;34m\u001b[0m\u001b[0;34m\u001b[0m\u001b[0m\n\u001b[1;32m      5\u001b[0m \u001b[0mPLI\u001b[0m \u001b[0;34m=\u001b[0m \u001b[0mAnyNode\u001b[0m\u001b[0;34m(\u001b[0m\u001b[0mdesc\u001b[0m \u001b[0;34m=\u001b[0m \u001b[0;34m\"Práticas de leitura em inglês\"\u001b[0m\u001b[0;34m,\u001b[0m \u001b[0mcarg_horaria\u001b[0m \u001b[0;34m=\u001b[0m \u001b[0;34m\"30h\"\u001b[0m\u001b[0;34m)\u001b[0m\u001b[0;34m\u001b[0m\u001b[0;34m\u001b[0m\u001b[0m\n",
            "\u001b[0;31mModuleNotFoundError\u001b[0m: No module named 'anytree'",
            "",
            "\u001b[0;31m---------------------------------------------------------------------------\u001b[0;32m\nNOTE: If your import is failing due to a missing package, you can\nmanually install dependencies using either !pip or !apt.\n\nTo view examples of installing some common dependencies, click the\n\"Open Examples\" button below.\n\u001b[0;31m---------------------------------------------------------------------------\u001b[0m\n"
          ]
        }
      ]
    },
    {
      "metadata": {
        "id": "7eSFG5kFjgVT",
        "colab_type": "code",
        "colab": {}
      },
      "cell_type": "code",
      "source": [
        ""
      ],
      "execution_count": 0,
      "outputs": []
    }
  ]
}